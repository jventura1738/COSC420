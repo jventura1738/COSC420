{
 "metadata": {
  "language_info": {
   "codemirror_mode": {
    "name": "ipython",
    "version": 3
   },
   "file_extension": ".py",
   "mimetype": "text/x-python",
   "name": "python",
   "nbconvert_exporter": "python",
   "pygments_lexer": "ipython3",
   "version": "3.8.3-final"
  },
  "orig_nbformat": 2,
  "kernelspec": {
   "name": "Python 3.8.3 64-bit ('base': conda)",
   "display_name": "Python 3.8.3 64-bit ('base': conda)",
   "metadata": {
    "interpreter": {
     "hash": "eb85bc834bd2cde1e21e28f7a1dbc887254b269da0eadb537a802bc3a76acb73"
    }
   }
  }
 },
 "nbformat": 4,
 "nbformat_minor": 2,
 "cells": [
  {
   "cell_type": "markdown",
   "metadata": {},
   "source": [
    "# COSC420: Floyd-Warshall Algorithm Testing\n",
    "(Justin Ventura)"
   ]
  },
  {
   "cell_type": "code",
   "execution_count": 97,
   "metadata": {},
   "outputs": [
    {
     "output_type": "stream",
     "name": "stdout",
     "text": [
      "D Matrix: \n [[ 0. -1. -2.  0.]\n [ 4.  0.  2.  4.]\n [ 5.  1.  0.  2.]\n [ 3. -1.  1.  0.]]\n\nN Matrix: \n [[nan  3.  0.  2.]\n [ 1. nan  0.  2.]\n [ 1.  3. nan  2.]\n [ 1.  3.  0. nan]]\n\n"
     ]
    }
   ],
   "source": [
    "# Imprort libraries:\n",
    "import numpy as np\n",
    "\n",
    "# Set up test\n",
    "V = [1, 2, 3, 4]\n",
    "E = {(0, 2): -2,\n",
    "     (1, 0): 4,\n",
    "     (1, 2): 3,\n",
    "     (2, 3): 2,\n",
    "     (3, 1): -1}\n",
    "card_v = len(V) # Cardinality of V\n",
    "dist = np.zeros((len(V), len(V)))\n",
    "pred = np.zeros((len(V), len(V)))\n",
    "\n",
    "# Create the initial cost matrix.\n",
    "for i in range(card_v):\n",
    "    for j in range(card_v):\n",
    "        if (i, j) in E.keys():\n",
    "            dist[i,j] = E[i,j]\n",
    "        elif i != j:\n",
    "            dist[i,j] = np.inf\n",
    "        if i == j:\n",
    "            pred[i, j] = np.NaN\n",
    "        else:\n",
    "            pred[i, j] = i\n",
    "\n",
    "# Run the Floyd-Warshall Algorithm.\n",
    "for k in range(card_v):\n",
    "    for i in range(card_v):\n",
    "        for j in range(card_v):\n",
    "            if dist[i,j] > dist[i,k] + dist[k,j]:\n",
    "                dist[i,j] = dist[i,k] + dist[k,j]\n",
    "                pred[i,j] = pred[k,j]\n",
    "\n",
    "print('D Matrix: \\n', dist, end='\\n\\n')\n",
    "print('N Matrix: \\n', pred, end='\\n\\n')"
   ]
  },
  {
   "cell_type": "code",
   "execution_count": 100,
   "metadata": {},
   "outputs": [
    {
     "output_type": "stream",
     "name": "stdout",
     "text": [
      "Path exists!\nShortest path:  [0, 2, 3]\n"
     ]
    }
   ],
   "source": [
    "def find_path(D, N, u, v, path):\n",
    "    \"\"\" \n",
    "    recursively finds the shortest path from\n",
    "    the initial u to v, using D and N.\n",
    "    \"\"\"\n",
    "    if u == v:\n",
    "        print('Path exists!')\n",
    "    else:\n",
    "        if N[int(u), int(v)] == np.NaN:\n",
    "            print('no path found.')\n",
    "        else:\n",
    "            path.append(int(N[u,v]))\n",
    "            return find_path(D, N, u, int(N[u, v]), path)\n",
    "\n",
    "# Display the shortest path:\n",
    "find_path(dist, pred, 1, 3, [])\n",
    "print('Shortest path: ', [p for p in reversed(P)])"
   ]
  },
  {
   "cell_type": "code",
   "execution_count": null,
   "metadata": {},
   "outputs": [],
   "source": []
  }
 ]
}